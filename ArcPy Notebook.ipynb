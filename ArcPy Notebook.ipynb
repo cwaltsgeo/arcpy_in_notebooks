{
 "cells": [
  {
   "cell_type": "code",
   "execution_count": null,
   "metadata": {},
   "outputs": [],
   "source": [
    "for field in arcpy.ListFields(\"DC_Demographics\"):\n",
    "    print(field.name)"
   ]
  },
  {
   "cell_type": "code",
   "execution_count": null,
   "metadata": {},
   "outputs": [],
   "source": [
    "arcpy.env.workspace"
   ]
  },
  {
   "cell_type": "code",
   "execution_count": null,
   "metadata": {},
   "outputs": [],
   "source": [
    "with arcpy.da.SearchCursor(\"DC_Demographics\", ['NAME']) as cursor:\n",
    "    for row in cursor:\n",
    "        print(row[0])"
   ]
  },
  {
   "cell_type": "code",
   "execution_count": null,
   "metadata": {},
   "outputs": [],
   "source": [
    "with arcpy.da.UpdateCursor(\"DC_Demographics\", ['NAME']) as cursor:\n",
    "    for row in cursor:\n",
    "        row[0] = 'District of Columbia'\n",
    "        cursor.updateRow(row)\n",
    "        print(row[0])"
   ]
  },
  {
   "cell_type": "code",
   "execution_count": null,
   "metadata": {},
   "outputs": [],
   "source": [
    "arcpy.management.CalculateField(\n",
    "    in_table=\"DC_Demographics\",\n",
    "    field=\"Income_per_Household\",\n",
    "    expression=\"!Household_Income! / !Household_Population!\",\n",
    "    field_type=\"LONG\"\n",
    ")"
   ]
  },
  {
   "cell_type": "code",
   "execution_count": null,
   "metadata": {},
   "outputs": [],
   "source": [
    "for field in arcpy.ListFields(\"DC_Demographics\"):\n",
    "    print(field.name)"
   ]
  },
  {
   "cell_type": "code",
   "execution_count": null,
   "metadata": {},
   "outputs": [],
   "source": [
    "with arcpy.da.SearchCursor(\"DC_Demographics\", ['Income_per_Household']) as cursor:\n",
    "    for row in cursor:\n",
    "        print(row[0])"
   ]
  },
  {
   "cell_type": "code",
   "execution_count": null,
   "metadata": {},
   "outputs": [],
   "source": [
    "project = arcpy.mp.ArcGISProject(\"CURRENT\")\n",
    "map = project.listMaps(\"Map\")[0]\n",
    "layer = map.listLayers(\"DC_Demographics\")[0]\n",
    "\n",
    "temp_symbology = layer.symbology\n",
    "temp_symbology.renderer.classificationField = \"Income_per_Household\"\n",
    "\n",
    "layer.symbology = temp_symbology"
   ]
  },
  {
   "cell_type": "code",
   "execution_count": null,
   "metadata": {},
   "outputs": [],
   "source": [
    "# with arcpy.da.UpdateCursor(\"DC_Demographics\", ['NAME']) as cursor:\n",
    "#     for row in cursor:\n",
    "#         row[0] = None\n",
    "#         cursor.updateRow(row)\n",
    "#         print(row[0])"
   ]
  }
 ],
 "metadata": {
  "kernelspec": {
   "display_name": "ArcGISPro",
   "language": "Python",
   "name": "python3"
  },
  "language_info": {
   "file_extension": ".py",
   "name": "python",
   "version": "3"
  }
 },
 "nbformat": 4,
 "nbformat_minor": 2
}
